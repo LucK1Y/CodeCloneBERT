{
 "cells": [
  {
   "cell_type": "markdown",
   "source": [
    "# Introduction\n",
    "This notebook is used to create a dataset for the semantic clone detection task. The dataset is created from the Semantic Benchmark dataset.\n",
    "\n",
    "The dataset contains 1000 pairs of similar and 1000 dissimilar code snippets. The dataset is saved as a csv file.\n",
    "\n",
    "**Note: In version two we remove the method names.**"
   ],
   "metadata": {
    "collapsed": false
   }
  },
  {
   "cell_type": "code",
   "outputs": [],
   "source": [
    "from pathlib import Path\n",
    "import glob\n",
    "import os\n",
    "import re\n",
    "import pandas as pd"
   ],
   "metadata": {
    "ExecuteTime": {
     "end_time": "2024-04-09T09:29:26.645162Z",
     "start_time": "2024-04-09T09:29:26.412633Z"
    }
   },
   "execution_count": 6
  },
  {
   "cell_type": "markdown",
   "source": [
    "####  Read the python files from the correct subdirectory and create the clone pairs"
   ],
   "metadata": {
    "collapsed": false
   }
  },
  {
   "cell_type": "code",
   "outputs": [],
   "source": [
    "# maybe needed to change to base directory\n",
    "os.chdir(\"..\")"
   ],
   "metadata": {
    "collapsed": false,
    "ExecuteTime": {
     "end_time": "2024-04-09T09:29:27.745505Z",
     "start_time": "2024-04-09T09:29:27.742958Z"
    }
   },
   "execution_count": 7
  },
  {
   "cell_type": "code",
   "outputs": [],
   "source": [
    "path = Path(\"data/Semantic_Benchmark/Python/Stand alone clones\")\n",
    "if not path.exists():\n",
    "    raise FileNotFoundError(f\"The path does not exist {path.absolute()}\")"
   ],
   "metadata": {
    "ExecuteTime": {
     "end_time": "2024-04-09T09:29:28.653915Z",
     "start_time": "2024-04-09T09:29:28.650928Z"
    }
   },
   "execution_count": 8
  },
  {
   "cell_type": "code",
   "execution_count": 9,
   "metadata": {
    "ExecuteTime": {
     "end_time": "2024-04-09T09:29:29.742689Z",
     "start_time": "2024-04-09T09:29:29.712845Z"
    }
   },
   "outputs": [],
   "source": [
    "python_files = path.glob(\"**/*.py\")\n",
    "pattern = re.compile(r\"data/Semantic_Benchmark/Python/Stand alone clones/Clone(?P<id>\\d+)\\.py\")\n",
    "import re\n",
    "\n",
    "method_name_pattern = re.compile(r\"def\\s+(.+?)\\(\")  # Matches \"def\", followed by whitespace, then captures any characters until an opening parenthesis\n",
    "\n",
    "clones = []\n",
    "for file in python_files:\n",
    "    match = pattern.match(str(file))\n",
    "    if match:\n",
    "        groups_dict = dict(match.groupdict())\n",
    "\n",
    "        with open(file) as f:\n",
    "            content = f.read()\n",
    "        clone1,_, clone2 = content.partition(\"\\n\\n\\n\")\n",
    "        clone1 = method_name_pattern.sub(\"def method_name(\", clone1.strip().strip(\"\\n\"), count=1)\n",
    "        clone2 = method_name_pattern.sub(\"def method_name(\", clone2.strip().strip(\"\\n\"), count=1)\n",
    "        groups_dict[\"clone1\"] = clone1\n",
    "        groups_dict[\"clone2\"] = clone2\n",
    "\n",
    "        clones.append(groups_dict)\n",
    "    else:\n",
    "        print(f\"no match for {file}\")\n"
   ]
  },
  {
   "cell_type": "code",
   "execution_count": 10,
   "metadata": {
    "ExecuteTime": {
     "end_time": "2024-04-09T09:29:31.105940Z",
     "start_time": "2024-04-09T09:29:31.095653Z"
    }
   },
   "outputs": [
    {
     "data": {
      "text/plain": "                                                clone1  \\\nid                                                       \n0    def method_name(numbers) :\\n\\tcount = 0\\n\\tm1 ...   \n1    def method_name(service, file_id) :\\n\\trequest...   \n10   def method_name(letter, n) :\\n\\tchar_array = [...   \n100  def method_name(self, data) :\\n\\tif data [0 : ...   \n101  def method_name(prompt, error) :\\n\\twhile True...   \n\n                                                clone2  \nid                                                      \n0    def method_name(L) :\\n\\tif (len(L) < 2) :\\n\\t\\...  \n1    def method_name(file_id, mimeType, filename) :...  \n10   def method_name(letter, n) :\\n\\tn_ = n % 26\\n\\...  \n100  def method_name(self, data) :\\n\\tself.stream.w...  \n101  def method_name(s) :\\n\\twhile True :\\n\\t\\ttry ...  ",
      "text/html": "<div>\n<style scoped>\n    .dataframe tbody tr th:only-of-type {\n        vertical-align: middle;\n    }\n\n    .dataframe tbody tr th {\n        vertical-align: top;\n    }\n\n    .dataframe thead th {\n        text-align: right;\n    }\n</style>\n<table border=\"1\" class=\"dataframe\">\n  <thead>\n    <tr style=\"text-align: right;\">\n      <th></th>\n      <th>clone1</th>\n      <th>clone2</th>\n    </tr>\n    <tr>\n      <th>id</th>\n      <th></th>\n      <th></th>\n    </tr>\n  </thead>\n  <tbody>\n    <tr>\n      <th>0</th>\n      <td>def method_name(numbers) :\\n\\tcount = 0\\n\\tm1 ...</td>\n      <td>def method_name(L) :\\n\\tif (len(L) &lt; 2) :\\n\\t\\...</td>\n    </tr>\n    <tr>\n      <th>1</th>\n      <td>def method_name(service, file_id) :\\n\\trequest...</td>\n      <td>def method_name(file_id, mimeType, filename) :...</td>\n    </tr>\n    <tr>\n      <th>10</th>\n      <td>def method_name(letter, n) :\\n\\tchar_array = [...</td>\n      <td>def method_name(letter, n) :\\n\\tn_ = n % 26\\n\\...</td>\n    </tr>\n    <tr>\n      <th>100</th>\n      <td>def method_name(self, data) :\\n\\tif data [0 : ...</td>\n      <td>def method_name(self, data) :\\n\\tself.stream.w...</td>\n    </tr>\n    <tr>\n      <th>101</th>\n      <td>def method_name(prompt, error) :\\n\\twhile True...</td>\n      <td>def method_name(s) :\\n\\twhile True :\\n\\t\\ttry ...</td>\n    </tr>\n  </tbody>\n</table>\n</div>"
     },
     "execution_count": 10,
     "metadata": {},
     "output_type": "execute_result"
    }
   ],
   "source": [
    "df = pd.DataFrame(clones)\n",
    "df.set_index(\"id\", inplace=True)\n",
    "df.sort_index(inplace=True)\n",
    "df.head()"
   ]
  },
  {
   "cell_type": "markdown",
   "source": [
    "#### Create the dissimilar pairs"
   ],
   "metadata": {
    "collapsed": false
   }
  },
  {
   "cell_type": "code",
   "execution_count": 11,
   "metadata": {
    "ExecuteTime": {
     "end_time": "2024-04-09T09:29:33.123537Z",
     "start_time": "2024-04-09T09:29:33.072402Z"
    }
   },
   "outputs": [
    {
     "name": "stdout",
     "output_type": "stream",
     "text": [
      "Split shapes:  (500, 2) (500, 2)\n",
      "Dissimilar shape:  (1000, 2)\n"
     ]
    },
    {
     "data": {
      "text/plain": "                                              clone1  \\\n0  def method_name(numbers) :\\n\\tcount = 0\\n\\tm1 ...   \n1  def method_name(service, file_id) :\\n\\trequest...   \n2  def method_name(letter, n) :\\n\\tchar_array = [...   \n3  def method_name(self, data) :\\n\\tif data [0 : ...   \n4  def method_name(prompt, error) :\\n\\twhile True...   \n\n                                              clone2  \n0  def method_name(x) :\\n\\tif x < 2 :\\n\\t\\treturn...  \n1  def method_name(lst) :\\n\\tnew_lst = []\\n\\tfor ...  \n2  def method_name(x) :\\n\\ta = [1, 5, 3, 9, 4, 10...  \n3  def method_name(x) :\\n\\ta = [1, 5, 3, 9, 4, 10...  \n4  def method_name(self) :\\n\\tself.secondsRemaini...  ",
      "text/html": "<div>\n<style scoped>\n    .dataframe tbody tr th:only-of-type {\n        vertical-align: middle;\n    }\n\n    .dataframe tbody tr th {\n        vertical-align: top;\n    }\n\n    .dataframe thead th {\n        text-align: right;\n    }\n</style>\n<table border=\"1\" class=\"dataframe\">\n  <thead>\n    <tr style=\"text-align: right;\">\n      <th></th>\n      <th>clone1</th>\n      <th>clone2</th>\n    </tr>\n  </thead>\n  <tbody>\n    <tr>\n      <th>0</th>\n      <td>def method_name(numbers) :\\n\\tcount = 0\\n\\tm1 ...</td>\n      <td>def method_name(x) :\\n\\tif x &lt; 2 :\\n\\t\\treturn...</td>\n    </tr>\n    <tr>\n      <th>1</th>\n      <td>def method_name(service, file_id) :\\n\\trequest...</td>\n      <td>def method_name(lst) :\\n\\tnew_lst = []\\n\\tfor ...</td>\n    </tr>\n    <tr>\n      <th>2</th>\n      <td>def method_name(letter, n) :\\n\\tchar_array = [...</td>\n      <td>def method_name(x) :\\n\\ta = [1, 5, 3, 9, 4, 10...</td>\n    </tr>\n    <tr>\n      <th>3</th>\n      <td>def method_name(self, data) :\\n\\tif data [0 : ...</td>\n      <td>def method_name(x) :\\n\\ta = [1, 5, 3, 9, 4, 10...</td>\n    </tr>\n    <tr>\n      <th>4</th>\n      <td>def method_name(prompt, error) :\\n\\twhile True...</td>\n      <td>def method_name(self) :\\n\\tself.secondsRemaini...</td>\n    </tr>\n  </tbody>\n</table>\n</div>"
     },
     "execution_count": 11,
     "metadata": {},
     "output_type": "execute_result"
    }
   ],
   "source": [
    "first_500 = df.iloc[:500]\n",
    "last_500 = df.iloc[-500:]\n",
    "\n",
    "print(\"Split shapes: \",first_500.shape, last_500.shape)\n",
    "\n",
    "dissimilar_pairs = []\n",
    "for i in range(500):\n",
    "    dissimilar_pairs.append((first_500.iloc[i]['clone1'], last_500.iloc[i]['clone1']))\n",
    "    \n",
    "for i in range(500):\n",
    "    dissimilar_pairs.append((first_500.iloc[i]['clone2'], last_500.iloc[i]['clone2']))\n",
    "    \n",
    "dissimilar_df = pd.DataFrame(dissimilar_pairs, columns=['clone1', 'clone2'])\n",
    "print(\"Dissimilar shape: \",dissimilar_df.shape)\n",
    "dissimilar_df.head()"
   ]
  },
  {
   "cell_type": "markdown",
   "source": [
    "#### Merge and add labels"
   ],
   "metadata": {
    "collapsed": false
   }
  },
  {
   "cell_type": "code",
   "outputs": [],
   "source": [
    "df['semantic_clone'] = 1\n",
    "dissimilar_df['semantic_clone'] = 0\n",
    "merged_df = pd.concat([df, dissimilar_df], ignore_index=True)"
   ],
   "metadata": {
    "collapsed": false,
    "ExecuteTime": {
     "end_time": "2024-04-09T09:26:49.630732Z",
     "start_time": "2024-04-09T09:26:49.624870Z"
    }
   },
   "execution_count": 10
  },
  {
   "cell_type": "code",
   "outputs": [
    {
     "name": "stdout",
     "output_type": "stream",
     "text": [
      "(2000, 3)\n"
     ]
    },
    {
     "data": {
      "text/plain": "                                                 clone1  \\\n1843  def method_name(the_list, match) :\\n\\ttry :\\n\\...   \n1823  def method_name(seq, sub) :\\n\\tm, n = len(seq)...   \n959   def method_name(self, key, value = None) :\\n\\t...   \n1085  def method_name(self, a = None, b = None, e = ...   \n430   def method_name(value) :\\n\\tcapitalized_words ...   \n8     def method_name(lst) :\\n\\tret = []\\n\\ta = b = ...   \n941   def method_name(node, v) :\\n\\tnew = [v, [], []...   \n1744  def method_name(self, maxlen, * a, ** k) :\\n\\t...   \n32    def method_name(self, * args, ** kwargs) :\\n\\t...   \n597   def method_name(left, right, compare) :\\n\\tres...   \n\n                                                 clone2  semantic_clone  \n1843  def method_name(y, A, B, Pi = None) :\\n\\tK = A...               0  \n1823  def method_name(self) :\\n\\tself.parent.title(\"...               0  \n959   def method_name(self, key, value = None) :\\n\\t...               1  \n1085  def method_name(arr) :\\n\\tif len(arr) < 2 :\\n\\...               0  \n430   def method_name(value) :\\n\\tdef camelcase() :\\...               1  \n8     def method_name(l) :\\n\\tr = []\\n\\tp = q = None...               1  \n941   def method_name(self, val, node) :\\n\\tif (val ...               1  \n1744  def method_name(request) :\\n\\tif request.metho...               0  \n32    def method_name(self, * args, ** kwargs) :\\n\\t...               1  \n597   def method_name(arr, p, q, r) :\\n\\tn1 = q - p ...               1  ",
      "text/html": "<div>\n<style scoped>\n    .dataframe tbody tr th:only-of-type {\n        vertical-align: middle;\n    }\n\n    .dataframe tbody tr th {\n        vertical-align: top;\n    }\n\n    .dataframe thead th {\n        text-align: right;\n    }\n</style>\n<table border=\"1\" class=\"dataframe\">\n  <thead>\n    <tr style=\"text-align: right;\">\n      <th></th>\n      <th>clone1</th>\n      <th>clone2</th>\n      <th>semantic_clone</th>\n    </tr>\n  </thead>\n  <tbody>\n    <tr>\n      <th>1843</th>\n      <td>def method_name(the_list, match) :\\n\\ttry :\\n\\...</td>\n      <td>def method_name(y, A, B, Pi = None) :\\n\\tK = A...</td>\n      <td>0</td>\n    </tr>\n    <tr>\n      <th>1823</th>\n      <td>def method_name(seq, sub) :\\n\\tm, n = len(seq)...</td>\n      <td>def method_name(self) :\\n\\tself.parent.title(\"...</td>\n      <td>0</td>\n    </tr>\n    <tr>\n      <th>959</th>\n      <td>def method_name(self, key, value = None) :\\n\\t...</td>\n      <td>def method_name(self, key, value = None) :\\n\\t...</td>\n      <td>1</td>\n    </tr>\n    <tr>\n      <th>1085</th>\n      <td>def method_name(self, a = None, b = None, e = ...</td>\n      <td>def method_name(arr) :\\n\\tif len(arr) &lt; 2 :\\n\\...</td>\n      <td>0</td>\n    </tr>\n    <tr>\n      <th>430</th>\n      <td>def method_name(value) :\\n\\tcapitalized_words ...</td>\n      <td>def method_name(value) :\\n\\tdef camelcase() :\\...</td>\n      <td>1</td>\n    </tr>\n    <tr>\n      <th>8</th>\n      <td>def method_name(lst) :\\n\\tret = []\\n\\ta = b = ...</td>\n      <td>def method_name(l) :\\n\\tr = []\\n\\tp = q = None...</td>\n      <td>1</td>\n    </tr>\n    <tr>\n      <th>941</th>\n      <td>def method_name(node, v) :\\n\\tnew = [v, [], []...</td>\n      <td>def method_name(self, val, node) :\\n\\tif (val ...</td>\n      <td>1</td>\n    </tr>\n    <tr>\n      <th>1744</th>\n      <td>def method_name(self, maxlen, * a, ** k) :\\n\\t...</td>\n      <td>def method_name(request) :\\n\\tif request.metho...</td>\n      <td>0</td>\n    </tr>\n    <tr>\n      <th>32</th>\n      <td>def method_name(self, * args, ** kwargs) :\\n\\t...</td>\n      <td>def method_name(self, * args, ** kwargs) :\\n\\t...</td>\n      <td>1</td>\n    </tr>\n    <tr>\n      <th>597</th>\n      <td>def method_name(left, right, compare) :\\n\\tres...</td>\n      <td>def method_name(arr, p, q, r) :\\n\\tn1 = q - p ...</td>\n      <td>1</td>\n    </tr>\n  </tbody>\n</table>\n</div>"
     },
     "execution_count": 11,
     "metadata": {},
     "output_type": "execute_result"
    }
   ],
   "source": [
    "print(merged_df.shape)\n",
    "merged_df.sample(10)"
   ],
   "metadata": {
    "collapsed": false,
    "ExecuteTime": {
     "end_time": "2024-04-09T09:26:50.091069Z",
     "start_time": "2024-04-09T09:26:50.080137Z"
    }
   },
   "execution_count": 11
  },
  {
   "cell_type": "code",
   "outputs": [],
   "source": [
    "# Store Dataset\n",
    "merged_df.to_csv(\"data/semantic_benchmark_dataset_2.csv\")"
   ],
   "metadata": {
    "collapsed": false,
    "ExecuteTime": {
     "end_time": "2024-04-09T09:26:55.708763Z",
     "start_time": "2024-04-09T09:26:55.683120Z"
    }
   },
   "execution_count": 12
  },
  {
   "cell_type": "code",
   "outputs": [
    {
     "ename": "NameError",
     "evalue": "name 'merged_df' is not defined",
     "output_type": "error",
     "traceback": [
      "\u001B[0;31m---------------------------------------------------------------------------\u001B[0m",
      "\u001B[0;31mNameError\u001B[0m                                 Traceback (most recent call last)",
      "Cell \u001B[0;32mIn[1], line 1\u001B[0m\n\u001B[0;32m----> 1\u001B[0m \u001B[43mmerged_df\u001B[49m[merged_df[\u001B[38;5;124m'\u001B[39m\u001B[38;5;124msemantic_clone\u001B[39m\u001B[38;5;124m'\u001B[39m] \u001B[38;5;241m==\u001B[39m \u001B[38;5;241m1\u001B[39m]\u001B[38;5;241m.\u001B[39msample(\u001B[38;5;241m10\u001B[39m)\n",
      "\u001B[0;31mNameError\u001B[0m: name 'merged_df' is not defined"
     ]
    }
   ],
   "source": [
    "merged_df[merged_df['semantic_clone'] == 1].sample(10)"
   ],
   "metadata": {
    "collapsed": false,
    "ExecuteTime": {
     "end_time": "2024-04-09T09:29:04.779617Z",
     "start_time": "2024-04-09T09:29:04.582566Z"
    }
   },
   "execution_count": 1
  },
  {
   "cell_type": "code",
   "outputs": [],
   "source": [
    "merged_df[merged_df['semantic_clone'] == 1].sample(10)"
   ],
   "metadata": {
    "collapsed": false
   }
  }
 ],
 "metadata": {
  "kernelspec": {
   "display_name": ".venv",
   "language": "python",
   "name": "python3"
  },
  "language_info": {
   "codemirror_mode": {
    "name": "ipython",
    "version": 3
   },
   "file_extension": ".py",
   "mimetype": "text/x-python",
   "name": "python",
   "nbconvert_exporter": "python",
   "pygments_lexer": "ipython3",
   "version": "3.10.12"
  }
 },
 "nbformat": 4,
 "nbformat_minor": 2
}

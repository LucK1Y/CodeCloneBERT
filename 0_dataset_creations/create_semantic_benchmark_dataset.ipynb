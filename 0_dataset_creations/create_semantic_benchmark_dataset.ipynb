{
 "cells": [
  {
   "cell_type": "markdown",
   "source": [
    "# Introduction\n",
    "This notebook is used to create a dataset for the semantic clone detection task. The dataset is created from the Semantic Benchmark dataset.\n",
    "\n",
    "The dataset contains 1000 pairs of similar and 1000 dissimilar code snippets. The dataset is saved as a csv file."
   ],
   "metadata": {
    "collapsed": false
   }
  },
  {
   "cell_type": "code",
   "outputs": [],
   "source": [
    "from pathlib import Path\n",
    "import glob\n",
    "import os\n",
    "import re\n",
    "import pandas as pd"
   ],
   "metadata": {
    "ExecuteTime": {
     "end_time": "2024-04-09T09:09:05.794764Z",
     "start_time": "2024-04-09T09:09:05.792280Z"
    }
   },
   "execution_count": 4
  },
  {
   "cell_type": "markdown",
   "source": [
    "####  Read the python files from the correct subdirectory and create the clone pairs"
   ],
   "metadata": {
    "collapsed": false
   }
  },
  {
   "cell_type": "code",
   "outputs": [],
   "source": [
    "# maybe needed to change to base directory\n",
    "os.chdir(\"..\")"
   ],
   "metadata": {
    "collapsed": false,
    "ExecuteTime": {
     "end_time": "2024-04-09T09:10:59.799739Z",
     "start_time": "2024-04-09T09:10:59.796185Z"
    }
   },
   "execution_count": 7
  },
  {
   "cell_type": "code",
   "outputs": [],
   "source": [
    "path = Path(\"data/Semantic_Benchmark/Python/Stand alone clones\")\n",
    "if not path.exists():\n",
    "    raise FileNotFoundError(f\"The path does not exist {path.absolute()}\")"
   ],
   "metadata": {
    "ExecuteTime": {
     "end_time": "2024-04-09T09:11:01.736873Z",
     "start_time": "2024-04-09T09:11:01.734449Z"
    }
   },
   "execution_count": 8
  },
  {
   "cell_type": "code",
   "execution_count": 14,
   "metadata": {
    "ExecuteTime": {
     "end_time": "2024-04-09T09:14:12.878395Z",
     "start_time": "2024-04-09T09:14:12.851730Z"
    }
   },
   "outputs": [],
   "source": [
    "python_files = path.glob(\"**/*.py\")\n",
    "pattern = re.compile(r\"data/Semantic_Benchmark/Python/Stand alone clones/Clone(?P<id>\\d+)\\.py\")\n",
    "\n",
    "clones = []\n",
    "for file in python_files:\n",
    "    match = pattern.match(str(file))\n",
    "    if match:\n",
    "        groups_dict = dict(match.groupdict())\n",
    "\n",
    "        with open(file) as f:\n",
    "            content = f.read()\n",
    "        clone1,_, clone2 = content.partition(\"\\n\\n\\n\")\n",
    "        groups_dict[\"clone1\"] = clone1.strip().strip(\"\\n\")\n",
    "        groups_dict[\"clone2\"] = clone2.strip().strip(\"\\n\")\n",
    "\n",
    "        clones.append(groups_dict)\n",
    "    else:\n",
    "        print(f\"no match for {file}\")\n"
   ]
  },
  {
   "cell_type": "code",
   "execution_count": 15,
   "metadata": {
    "ExecuteTime": {
     "end_time": "2024-04-09T09:15:10.111085Z",
     "start_time": "2024-04-09T09:15:10.104691Z"
    }
   },
   "outputs": [],
   "source": [
    "df = pd.DataFrame(clones)\n",
    "df.set_index(\"id\", inplace=True)\n",
    "df.sort_index(inplace=True)"
   ]
  },
  {
   "cell_type": "markdown",
   "source": [
    "#### Create the dissimilar pairs"
   ],
   "metadata": {
    "collapsed": false
   }
  },
  {
   "cell_type": "code",
   "execution_count": 19,
   "metadata": {
    "ExecuteTime": {
     "end_time": "2024-04-09T09:17:07.237737Z",
     "start_time": "2024-04-09T09:17:07.186630Z"
    }
   },
   "outputs": [
    {
     "name": "stdout",
     "output_type": "stream",
     "text": [
      "Split shapes:  (500, 2) (500, 2)\n",
      "Dissimilar shape:  (1000, 2)\n"
     ]
    },
    {
     "data": {
      "text/plain": "                                              clone1  \\\n0  def second_largest(numbers) :\\n\\tcount = 0\\n\\t...   \n1  def download_file(service, file_id) :\\n\\treque...   \n2  def shift_n_letters(letter, n) :\\n\\tchar_array...   \n3  def write(self, data) :\\n\\tif data [0 : LOG_ID...   \n4  def num_input(prompt, error) :\\n\\twhile True :...   \n\n                                              clone2  \n0  def is_prime(x) :\\n\\tif x < 2 :\\n\\t\\treturn Fa...  \n1  def cumulative_sum(lst) :\\n\\tnew_lst = []\\n\\tf...  \n2  def is_member(x) :\\n\\ta = [1, 5, 3, 9, 4, 100]...  \n3  def is_member(x) :\\n\\ta = [1, 5, 3, 9, 4, 100]...  \n4  def __init__(self) :\\n\\tself.secondsRemaining ...  ",
      "text/html": "<div>\n<style scoped>\n    .dataframe tbody tr th:only-of-type {\n        vertical-align: middle;\n    }\n\n    .dataframe tbody tr th {\n        vertical-align: top;\n    }\n\n    .dataframe thead th {\n        text-align: right;\n    }\n</style>\n<table border=\"1\" class=\"dataframe\">\n  <thead>\n    <tr style=\"text-align: right;\">\n      <th></th>\n      <th>clone1</th>\n      <th>clone2</th>\n    </tr>\n  </thead>\n  <tbody>\n    <tr>\n      <th>0</th>\n      <td>def second_largest(numbers) :\\n\\tcount = 0\\n\\t...</td>\n      <td>def is_prime(x) :\\n\\tif x &lt; 2 :\\n\\t\\treturn Fa...</td>\n    </tr>\n    <tr>\n      <th>1</th>\n      <td>def download_file(service, file_id) :\\n\\treque...</td>\n      <td>def cumulative_sum(lst) :\\n\\tnew_lst = []\\n\\tf...</td>\n    </tr>\n    <tr>\n      <th>2</th>\n      <td>def shift_n_letters(letter, n) :\\n\\tchar_array...</td>\n      <td>def is_member(x) :\\n\\ta = [1, 5, 3, 9, 4, 100]...</td>\n    </tr>\n    <tr>\n      <th>3</th>\n      <td>def write(self, data) :\\n\\tif data [0 : LOG_ID...</td>\n      <td>def is_member(x) :\\n\\ta = [1, 5, 3, 9, 4, 100]...</td>\n    </tr>\n    <tr>\n      <th>4</th>\n      <td>def num_input(prompt, error) :\\n\\twhile True :...</td>\n      <td>def __init__(self) :\\n\\tself.secondsRemaining ...</td>\n    </tr>\n  </tbody>\n</table>\n</div>"
     },
     "execution_count": 19,
     "metadata": {},
     "output_type": "execute_result"
    }
   ],
   "source": [
    "first_500 = df.iloc[:500]\n",
    "last_500 = df.iloc[-500:]\n",
    "\n",
    "print(\"Split shapes: \",first_500.shape, last_500.shape)\n",
    "\n",
    "dissimilar_pairs = []\n",
    "for i in range(500):\n",
    "    dissimilar_pairs.append((first_500.iloc[i]['clone1'], last_500.iloc[i]['clone1']))\n",
    "    \n",
    "for i in range(500):\n",
    "    dissimilar_pairs.append((first_500.iloc[i]['clone2'], last_500.iloc[i]['clone2']))\n",
    "    \n",
    "dissimilar_df = pd.DataFrame(dissimilar_pairs, columns=['clone1', 'clone2'])\n",
    "print(\"Dissimilar shape: \",dissimilar_df.shape)\n",
    "dissimilar_df.head()"
   ]
  },
  {
   "cell_type": "markdown",
   "source": [
    "#### Merge and add labels"
   ],
   "metadata": {
    "collapsed": false
   }
  },
  {
   "cell_type": "code",
   "outputs": [],
   "source": [
    "df['semantic_clone'] = 1\n",
    "dissimilar_df['semantic_clone'] = 0\n",
    "merged_df = pd.concat([df, dissimilar_df], ignore_index=True)"
   ],
   "metadata": {
    "collapsed": false,
    "ExecuteTime": {
     "end_time": "2024-04-09T09:17:54.162486Z",
     "start_time": "2024-04-09T09:17:54.152841Z"
    }
   },
   "execution_count": 20
  },
  {
   "cell_type": "code",
   "outputs": [
    {
     "name": "stdout",
     "output_type": "stream",
     "text": [
      "(2000, 3)\n"
     ]
    },
    {
     "data": {
      "text/plain": "                                                 clone1  \\\n328   def __init__(self, parent) :\\n\\tsuper(MyInterp...   \n954   def md5sum(filename) :\\n\\twith open(filename, ...   \n1479  def deep_reverse(a) :\\n\\ta.reverse()\\n\\tfor i ...   \n523   def createfile() :\\n\\tvar = \"\"\"\\\\n\\t#!/bin/sh\\...   \n110   def transformFactorList(factorList) :\\n\\ttwos ...   \n1665  def changelist_view(self, request, extra_conte...   \n975   def wrapper(arg1) :\\n\\tresult = func(arg1)\\n\\t...   \n1272  def upload(path) :\\n\\twith open(path, 'rb') as...   \n1672  def bmi_risk(bmi, age) :\\n\\tif bmi < 22 and ag...   \n1924  def is_valid_hostname(hostname) :\\n\\tif len(ho...   \n\n                                                 clone2  semantic_clone  \n328   def __init__(self, parent) :\\n\\tsuper(PyInterp...               1  \n954   def md5sum(filename) :\\n\\twith open(filename, ...               1  \n1479  def create_response(self, request, data, respo...               0  \n523   def createfile() :\\n\\tvar = \"\"\"#!/bin/sh\\n\\tec...               1  \n110   def transformFactorList(factorList) :\\n\\toldsi...               1  \n1665  def biggest() :\\n\\tbig_x, big_y, max_seen, pro...               0  \n975   def wrapper(arg1) :\\n\\terrors = []\\n\\tresult =...               1  \n1272  def recursiveHalfString(s, offset = 0) :\\n\\tha...               0  \n1672  def change_keys(obj, convert) :\\n\\tif isinstan...               0  \n1924  def unique(items) :\\n\\tseen = set()\\n\\tfor i i...               0  ",
      "text/html": "<div>\n<style scoped>\n    .dataframe tbody tr th:only-of-type {\n        vertical-align: middle;\n    }\n\n    .dataframe tbody tr th {\n        vertical-align: top;\n    }\n\n    .dataframe thead th {\n        text-align: right;\n    }\n</style>\n<table border=\"1\" class=\"dataframe\">\n  <thead>\n    <tr style=\"text-align: right;\">\n      <th></th>\n      <th>clone1</th>\n      <th>clone2</th>\n      <th>semantic_clone</th>\n    </tr>\n  </thead>\n  <tbody>\n    <tr>\n      <th>328</th>\n      <td>def __init__(self, parent) :\\n\\tsuper(MyInterp...</td>\n      <td>def __init__(self, parent) :\\n\\tsuper(PyInterp...</td>\n      <td>1</td>\n    </tr>\n    <tr>\n      <th>954</th>\n      <td>def md5sum(filename) :\\n\\twith open(filename, ...</td>\n      <td>def md5sum(filename) :\\n\\twith open(filename, ...</td>\n      <td>1</td>\n    </tr>\n    <tr>\n      <th>1479</th>\n      <td>def deep_reverse(a) :\\n\\ta.reverse()\\n\\tfor i ...</td>\n      <td>def create_response(self, request, data, respo...</td>\n      <td>0</td>\n    </tr>\n    <tr>\n      <th>523</th>\n      <td>def createfile() :\\n\\tvar = \"\"\"\\\\n\\t#!/bin/sh\\...</td>\n      <td>def createfile() :\\n\\tvar = \"\"\"#!/bin/sh\\n\\tec...</td>\n      <td>1</td>\n    </tr>\n    <tr>\n      <th>110</th>\n      <td>def transformFactorList(factorList) :\\n\\ttwos ...</td>\n      <td>def transformFactorList(factorList) :\\n\\toldsi...</td>\n      <td>1</td>\n    </tr>\n    <tr>\n      <th>1665</th>\n      <td>def changelist_view(self, request, extra_conte...</td>\n      <td>def biggest() :\\n\\tbig_x, big_y, max_seen, pro...</td>\n      <td>0</td>\n    </tr>\n    <tr>\n      <th>975</th>\n      <td>def wrapper(arg1) :\\n\\tresult = func(arg1)\\n\\t...</td>\n      <td>def wrapper(arg1) :\\n\\terrors = []\\n\\tresult =...</td>\n      <td>1</td>\n    </tr>\n    <tr>\n      <th>1272</th>\n      <td>def upload(path) :\\n\\twith open(path, 'rb') as...</td>\n      <td>def recursiveHalfString(s, offset = 0) :\\n\\tha...</td>\n      <td>0</td>\n    </tr>\n    <tr>\n      <th>1672</th>\n      <td>def bmi_risk(bmi, age) :\\n\\tif bmi &lt; 22 and ag...</td>\n      <td>def change_keys(obj, convert) :\\n\\tif isinstan...</td>\n      <td>0</td>\n    </tr>\n    <tr>\n      <th>1924</th>\n      <td>def is_valid_hostname(hostname) :\\n\\tif len(ho...</td>\n      <td>def unique(items) :\\n\\tseen = set()\\n\\tfor i i...</td>\n      <td>0</td>\n    </tr>\n  </tbody>\n</table>\n</div>"
     },
     "execution_count": 23,
     "metadata": {},
     "output_type": "execute_result"
    }
   ],
   "source": [
    "print(merged_df.shape)\n",
    "merged_df.sample(10)"
   ],
   "metadata": {
    "collapsed": false,
    "ExecuteTime": {
     "end_time": "2024-04-09T09:18:26.180069Z",
     "start_time": "2024-04-09T09:18:26.171130Z"
    }
   },
   "execution_count": 23
  },
  {
   "cell_type": "code",
   "outputs": [],
   "source": [
    "# Store Dataset\n",
    "merged_df.to_csv(\"data/semantic_benchmark_dataset.csv\")"
   ],
   "metadata": {
    "collapsed": false,
    "ExecuteTime": {
     "end_time": "2024-03-27T10:19:35.052940Z",
     "start_time": "2024-03-27T10:19:35.035518Z"
    }
   },
   "execution_count": 34
  }
 ],
 "metadata": {
  "kernelspec": {
   "display_name": ".venv",
   "language": "python",
   "name": "python3"
  },
  "language_info": {
   "codemirror_mode": {
    "name": "ipython",
    "version": 3
   },
   "file_extension": ".py",
   "mimetype": "text/x-python",
   "name": "python",
   "nbconvert_exporter": "python",
   "pygments_lexer": "ipython3",
   "version": "3.10.12"
  }
 },
 "nbformat": 4,
 "nbformat_minor": 2
}

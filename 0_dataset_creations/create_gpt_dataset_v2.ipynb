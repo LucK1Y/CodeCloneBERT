{
 "cells": [
  {
   "cell_type": "markdown",
   "id": "ea293918a9f74bbe",
   "metadata": {
    "collapsed": false
   },
   "source": [
    "# Idea\n",
    "Create Dataset from ChatGPT"
   ]
  },
  {
   "cell_type": "code",
   "execution_count": 1,
   "id": "initial_id",
   "metadata": {
    "ExecuteTime": {
     "end_time": "2024-04-17T19:01:21.685584Z",
     "start_time": "2024-04-17T19:01:21.444619Z"
    },
    "collapsed": true
   },
   "outputs": [],
   "source": [
    "import os\n",
    "from pathlib import Path\n",
    "import glob\n",
    "import pandas as pd\n",
    "\n",
    "import numpy as np"
   ]
  },
  {
   "cell_type": "code",
   "execution_count": 2,
   "id": "a7bb0dd4c069905",
   "metadata": {
    "ExecuteTime": {
     "end_time": "2024-04-17T19:01:21.688869Z",
     "start_time": "2024-04-17T19:01:21.686668Z"
    },
    "collapsed": false
   },
   "outputs": [],
   "source": [
    "os.chdir(\"..\")\n",
    "path = Path(\"data/GPTCloneBench/standalone/true_semantic_clones/py\")\n",
    "assert path.exists(), \"Path does not exist\""
   ]
  },
  {
   "cell_type": "markdown",
   "id": "a605e5d9bf77fedb",
   "metadata": {
    "collapsed": false
   },
   "source": [
    "#### Erronous:\n",
    "data/GPTCloneBench/standalone/true_semantic_clones/py/prompt_2/T4/Clone_4245.py (more than 2 functions)\n",
    "data/GPTCloneBench/standalone/true_semantic_clones/py/prompt_2/T4/Clone_1287.py (less than 3 newlines in between)\n",
    "data/GPTCloneBench/standalone/true_semantic_clones/py/prompt_2/T4/Clone_2448.py (no new lines inbetween)\n",
    "data/GPTCloneBench/standalone/true_semantic_clones/py/prompt_2/T4/Clone_1414.py is syntactically wrong and also clone 3 => deleted\n",
    " data/GPTCloneBench/standalone/true_semantic_clones/py/prompt_2/T4/Clone_3439.py (less than 3 newlines in between)\n",
    " data/GPTCloneBench/standalone/true_semantic_clones/py/prompt_2/T4/Clone_1415.py (less than 3 newlines in between)\n",
    " data/GPTCloneBench/standalone/true_semantic_clones/py/prompt_2/T4/Clone_2446.py (no new lines inbetween)\n",
    " data/GPTCloneBench/standalone/true_semantic_clones/py/prompt_2/T4/Clone_3441.py (less than 3 newlines in between)\n",
    " data/GPTCloneBench/standalone/true_semantic_clones/py/prompt_2/T4/Clone_1413.py (less than 3 newlines in between)\n",
    " data/GPTCloneBench/standalone/true_semantic_clones/py/prompt_2/T4/Clone_1288.py (less than 3 newlines in between)"
   ]
  },
  {
   "cell_type": "code",
   "execution_count": 3,
   "id": "3011e1dc30c25a79",
   "metadata": {
    "ExecuteTime": {
     "end_time": "2024-04-17T19:01:22.032488Z",
     "start_time": "2024-04-17T19:01:21.876872Z"
    },
    "collapsed": false
   },
   "outputs": [],
   "source": [
    "import re\n",
    "\n",
    "python_files = path.glob(\"**/*.py\")\n",
    "pattern = re.compile(r\"data/GPTCloneBench/standalone/true_semantic_clones/py/(?P<prompt>.*?)/(?P<clonetype>.*?)/Clone_(?P<id>\\d+)\\.py\")\n",
    "split_pattern = re.compile(r\"\\n\\s{0,4}\\n\\s?\\n([#\\w=\\s:.\\-,]*\\n)?\\n?\\s{0,6}(def|from|import|mutex|depth|@patch|BUCKET|k)\")\n",
    "\n",
    "clones = []\n",
    "for file in python_files:\n",
    "    match = pattern.match(str(file))\n",
    "    if match:\n",
    "        groups_dict = dict(match.groupdict())\n",
    "        \n",
    "        if groups_dict[\"clonetype\"] == \"MT3\":\n",
    "            continue\n",
    "        \n",
    "        with open(file) as f:\n",
    "            content = f.read()\n",
    "        splits = split_pattern.split(content, maxsplit=1)\n",
    "        assert len(splits) == 4, print(f\"no match for {file}: {len(splits)}: {splits}\")\n",
    "            \n",
    "        clone1 = splits[0]\n",
    "        clone2 = splits[2] +\" \"+ splits[3]\n",
    "        \n",
    "        groups_dict[\"clone1\"] = clone1.strip().strip(\"\\n\")\n",
    "        groups_dict[\"clone2\"] = clone2.strip().strip(\"\\n\")\n",
    "        groups_dict[\"file_path\"] = file\n",
    "\n",
    "        clones.append(groups_dict)\n",
    "    else:\n",
    "        print(f\"no match for {file}\")"
   ]
  },
  {
   "cell_type": "code",
   "execution_count": 4,
   "id": "6c1da4310ea8656b",
   "metadata": {
    "ExecuteTime": {
     "end_time": "2024-04-17T19:01:22.604954Z",
     "start_time": "2024-04-17T19:01:22.594147Z"
    },
    "collapsed": false
   },
   "outputs": [],
   "source": [
    "df = pd.DataFrame(clones)\n",
    "# df.set_index(\"id\", inplace=True)\n",
    "df.sort_values(by=\"id\",inplace=True)"
   ]
  },
  {
   "cell_type": "markdown",
   "id": "728cc04418cb7485",
   "metadata": {
    "collapsed": false
   },
   "source": [
    "#### Checking Data"
   ]
  },
  {
   "cell_type": "code",
   "execution_count": 5,
   "id": "cf38b705fc3ebf6d",
   "metadata": {
    "ExecuteTime": {
     "end_time": "2024-04-17T19:01:26.512460Z",
     "start_time": "2024-04-17T19:01:26.503674Z"
    },
    "collapsed": false
   },
   "outputs": [
    {
     "data": {
      "text/plain": [
       "clonetype\n",
       "T4    6115\n",
       "Name: count, dtype: int64"
      ]
     },
     "execution_count": 5,
     "metadata": {},
     "output_type": "execute_result"
    }
   ],
   "source": [
    "df[\"clonetype\"].value_counts()"
   ]
  },
  {
   "cell_type": "code",
   "execution_count": 6,
   "id": "578b9c51b278b4c0",
   "metadata": {
    "ExecuteTime": {
     "end_time": "2024-04-17T19:01:27.086145Z",
     "start_time": "2024-04-17T19:01:27.065178Z"
    },
    "collapsed": false
   },
   "outputs": [
    {
     "data": {
      "text/html": [
       "<div>\n",
       "<style scoped>\n",
       "    .dataframe tbody tr th:only-of-type {\n",
       "        vertical-align: middle;\n",
       "    }\n",
       "\n",
       "    .dataframe tbody tr th {\n",
       "        vertical-align: top;\n",
       "    }\n",
       "\n",
       "    .dataframe thead th {\n",
       "        text-align: right;\n",
       "    }\n",
       "</style>\n",
       "<table border=\"1\" class=\"dataframe\">\n",
       "  <thead>\n",
       "    <tr style=\"text-align: right;\">\n",
       "      <th></th>\n",
       "      <th>prompt</th>\n",
       "      <th>clonetype</th>\n",
       "      <th>id</th>\n",
       "      <th>clone1</th>\n",
       "      <th>clone2</th>\n",
       "      <th>file_path</th>\n",
       "    </tr>\n",
       "  </thead>\n",
       "  <tbody>\n",
       "  </tbody>\n",
       "</table>\n",
       "</div>"
      ],
      "text/plain": [
       "Empty DataFrame\n",
       "Columns: [prompt, clonetype, id, clone1, clone2, file_path]\n",
       "Index: []"
      ]
     },
     "execution_count": 6,
     "metadata": {},
     "output_type": "execute_result"
    }
   ],
   "source": [
    "method_signature_pattern_at_start = re.compile(r'^def\\s{1,2}\\w+\\s*\\([\\w,=\\s*.\\'\\\"-{}()\\[\\]]*\\)\\s*:\\s*') \n",
    "\n",
    "def starts_with_method_signature(s):\n",
    "    if method_signature_pattern_at_start.match(s) or s.startswith(\"from\") or s.startswith(\"import\") or s.startswith(\"mutex\") or s.startswith(\"depth\") or s.startswith(\"@patch\") or s.startswith(\"BUCKET\") or s.startswith(\"k\"):\n",
    "        return True\n",
    "    return False\n",
    "df[~df[\"clone1\"].map(lambda x: starts_with_method_signature(x))]"
   ]
  },
  {
   "cell_type": "code",
   "execution_count": 7,
   "id": "602a501caa3845c9",
   "metadata": {
    "ExecuteTime": {
     "end_time": "2024-04-17T19:01:27.601214Z",
     "start_time": "2024-04-17T19:01:27.581069Z"
    },
    "collapsed": false
   },
   "outputs": [
    {
     "data": {
      "text/html": [
       "<div>\n",
       "<style scoped>\n",
       "    .dataframe tbody tr th:only-of-type {\n",
       "        vertical-align: middle;\n",
       "    }\n",
       "\n",
       "    .dataframe tbody tr th {\n",
       "        vertical-align: top;\n",
       "    }\n",
       "\n",
       "    .dataframe thead th {\n",
       "        text-align: right;\n",
       "    }\n",
       "</style>\n",
       "<table border=\"1\" class=\"dataframe\">\n",
       "  <thead>\n",
       "    <tr style=\"text-align: right;\">\n",
       "      <th></th>\n",
       "      <th>prompt</th>\n",
       "      <th>clonetype</th>\n",
       "      <th>id</th>\n",
       "      <th>clone1</th>\n",
       "      <th>clone2</th>\n",
       "      <th>file_path</th>\n",
       "    </tr>\n",
       "  </thead>\n",
       "  <tbody>\n",
       "    <tr>\n",
       "      <th>103</th>\n",
       "      <td>prompt_2</td>\n",
       "      <td>T4</td>\n",
       "      <td>3608</td>\n",
       "      <td>def __init__(self, maxlen, items = None) :\\n\\t...</td>\n",
       "      <td>def  __init__(self, maxlen, items=None) -&gt; Non...</td>\n",
       "      <td>data/GPTCloneBench/standalone/true_semantic_cl...</td>\n",
       "    </tr>\n",
       "    <tr>\n",
       "      <th>1223</th>\n",
       "      <td>prompt_2</td>\n",
       "      <td>T4</td>\n",
       "      <td>4392</td>\n",
       "      <td>def merge(left_side, right_side) :\\n\\tresult =...</td>\n",
       "      <td>def  merge(left: List[int], right: List[int]) ...</td>\n",
       "      <td>data/GPTCloneBench/standalone/true_semantic_cl...</td>\n",
       "    </tr>\n",
       "    <tr>\n",
       "      <th>5988</th>\n",
       "      <td>prompt_1</td>\n",
       "      <td>T4</td>\n",
       "      <td>463</td>\n",
       "      <td>def pairsum_n(list1, value) :\\n\\tset1 = set(li...</td>\n",
       "      <td>def  pairsum_n(list1: List[int], value: int) -...</td>\n",
       "      <td>data/GPTCloneBench/standalone/true_semantic_cl...</td>\n",
       "    </tr>\n",
       "    <tr>\n",
       "      <th>5862</th>\n",
       "      <td>prompt_1</td>\n",
       "      <td>T4</td>\n",
       "      <td>464</td>\n",
       "      <td>def pairsum_n(list1, value) :\\n\\tset1 = set(li...</td>\n",
       "      <td>def  pairsum_n(list1: List[int], value: int) -...</td>\n",
       "      <td>data/GPTCloneBench/standalone/true_semantic_cl...</td>\n",
       "    </tr>\n",
       "    <tr>\n",
       "      <th>675</th>\n",
       "      <td>prompt_2</td>\n",
       "      <td>T4</td>\n",
       "      <td>4897</td>\n",
       "      <td>def recursiveHalfString(s, offset = 0) :\\n\\tha...</td>\n",
       "      <td>def  recursiveHalfString(s: str, offset: int =...</td>\n",
       "      <td>data/GPTCloneBench/standalone/true_semantic_cl...</td>\n",
       "    </tr>\n",
       "    <tr>\n",
       "      <th>3159</th>\n",
       "      <td>prompt_2</td>\n",
       "      <td>T4</td>\n",
       "      <td>4898</td>\n",
       "      <td>def recursiveHalfString(s, offset = 0) :\\n\\tha...</td>\n",
       "      <td>def  recursiveHalfString(s: str, offset: Optio...</td>\n",
       "      <td>data/GPTCloneBench/standalone/true_semantic_cl...</td>\n",
       "    </tr>\n",
       "    <tr>\n",
       "      <th>4016</th>\n",
       "      <td>prompt_2</td>\n",
       "      <td>T4</td>\n",
       "      <td>4902</td>\n",
       "      <td>def recursiveHalfString(s, offset = 0) :\\n\\tha...</td>\n",
       "      <td>def  recursiveHalfString(s: str, offset = 0, h...</td>\n",
       "      <td>data/GPTCloneBench/standalone/true_semantic_cl...</td>\n",
       "    </tr>\n",
       "    <tr>\n",
       "      <th>4760</th>\n",
       "      <td>prompt_2</td>\n",
       "      <td>T4</td>\n",
       "      <td>5362</td>\n",
       "      <td>def __init__(self, widget) :\\n\\tlogging.Handle...</td>\n",
       "      <td>def ault_fg = \"red\"\\n    for tag in [\"INFO\", \"...</td>\n",
       "      <td>data/GPTCloneBench/standalone/true_semantic_cl...</td>\n",
       "    </tr>\n",
       "  </tbody>\n",
       "</table>\n",
       "</div>"
      ],
      "text/plain": [
       "        prompt clonetype    id  \\\n",
       "103   prompt_2        T4  3608   \n",
       "1223  prompt_2        T4  4392   \n",
       "5988  prompt_1        T4   463   \n",
       "5862  prompt_1        T4   464   \n",
       "675   prompt_2        T4  4897   \n",
       "3159  prompt_2        T4  4898   \n",
       "4016  prompt_2        T4  4902   \n",
       "4760  prompt_2        T4  5362   \n",
       "\n",
       "                                                 clone1  \\\n",
       "103   def __init__(self, maxlen, items = None) :\\n\\t...   \n",
       "1223  def merge(left_side, right_side) :\\n\\tresult =...   \n",
       "5988  def pairsum_n(list1, value) :\\n\\tset1 = set(li...   \n",
       "5862  def pairsum_n(list1, value) :\\n\\tset1 = set(li...   \n",
       "675   def recursiveHalfString(s, offset = 0) :\\n\\tha...   \n",
       "3159  def recursiveHalfString(s, offset = 0) :\\n\\tha...   \n",
       "4016  def recursiveHalfString(s, offset = 0) :\\n\\tha...   \n",
       "4760  def __init__(self, widget) :\\n\\tlogging.Handle...   \n",
       "\n",
       "                                                 clone2  \\\n",
       "103   def  __init__(self, maxlen, items=None) -> Non...   \n",
       "1223  def  merge(left: List[int], right: List[int]) ...   \n",
       "5988  def  pairsum_n(list1: List[int], value: int) -...   \n",
       "5862  def  pairsum_n(list1: List[int], value: int) -...   \n",
       "675   def  recursiveHalfString(s: str, offset: int =...   \n",
       "3159  def  recursiveHalfString(s: str, offset: Optio...   \n",
       "4016  def  recursiveHalfString(s: str, offset = 0, h...   \n",
       "4760  def ault_fg = \"red\"\\n    for tag in [\"INFO\", \"...   \n",
       "\n",
       "                                              file_path  \n",
       "103   data/GPTCloneBench/standalone/true_semantic_cl...  \n",
       "1223  data/GPTCloneBench/standalone/true_semantic_cl...  \n",
       "5988  data/GPTCloneBench/standalone/true_semantic_cl...  \n",
       "5862  data/GPTCloneBench/standalone/true_semantic_cl...  \n",
       "675   data/GPTCloneBench/standalone/true_semantic_cl...  \n",
       "3159  data/GPTCloneBench/standalone/true_semantic_cl...  \n",
       "4016  data/GPTCloneBench/standalone/true_semantic_cl...  \n",
       "4760  data/GPTCloneBench/standalone/true_semantic_cl...  "
      ]
     },
     "execution_count": 7,
     "metadata": {},
     "output_type": "execute_result"
    }
   ],
   "source": [
    "df[~df[\"clone2\"].map(lambda x: starts_with_method_signature(x))]"
   ]
  },
  {
   "cell_type": "markdown",
   "id": "3731c154f29d04d1",
   "metadata": {
    "collapsed": false
   },
   "source": [
    "#### Pairing"
   ]
  },
  {
   "cell_type": "code",
   "execution_count": 8,
   "id": "1cd958c4d3cec6a3",
   "metadata": {
    "ExecuteTime": {
     "end_time": "2024-04-17T19:01:29.675665Z",
     "start_time": "2024-04-17T19:01:29.665408Z"
    },
    "collapsed": false
   },
   "outputs": [
    {
     "data": {
      "text/html": [
       "<div>\n",
       "<style scoped>\n",
       "    .dataframe tbody tr th:only-of-type {\n",
       "        vertical-align: middle;\n",
       "    }\n",
       "\n",
       "    .dataframe tbody tr th {\n",
       "        vertical-align: top;\n",
       "    }\n",
       "\n",
       "    .dataframe thead th {\n",
       "        text-align: right;\n",
       "    }\n",
       "</style>\n",
       "<table border=\"1\" class=\"dataframe\">\n",
       "  <thead>\n",
       "    <tr style=\"text-align: right;\">\n",
       "      <th></th>\n",
       "      <th>clone1</th>\n",
       "      <th>count</th>\n",
       "    </tr>\n",
       "  </thead>\n",
       "  <tbody>\n",
       "    <tr>\n",
       "      <th>0</th>\n",
       "      <td>def median(data) :\\n\\tnew_list = sorted(data)\\...</td>\n",
       "      <td>73</td>\n",
       "    </tr>\n",
       "    <tr>\n",
       "      <th>1</th>\n",
       "      <td>def merge(left_side, right_side) :\\n\\tresult =...</td>\n",
       "      <td>55</td>\n",
       "    </tr>\n",
       "    <tr>\n",
       "      <th>2</th>\n",
       "      <td>def sublist(a, b) :\\n\\tlast = 0\\n\\tfor el_a in...</td>\n",
       "      <td>48</td>\n",
       "    </tr>\n",
       "    <tr>\n",
       "      <th>3</th>\n",
       "      <td>def unique(list) :\\n\\ts = {}\\n\\toutput = []\\n\\...</td>\n",
       "      <td>48</td>\n",
       "    </tr>\n",
       "    <tr>\n",
       "      <th>4</th>\n",
       "      <td>def median(x) :\\n\\tif len(x) % 2 == 0 :\\n\\t\\tx...</td>\n",
       "      <td>42</td>\n",
       "    </tr>\n",
       "  </tbody>\n",
       "</table>\n",
       "</div>"
      ],
      "text/plain": [
       "                                              clone1  count\n",
       "0  def median(data) :\\n\\tnew_list = sorted(data)\\...     73\n",
       "1  def merge(left_side, right_side) :\\n\\tresult =...     55\n",
       "2  def sublist(a, b) :\\n\\tlast = 0\\n\\tfor el_a in...     48\n",
       "3  def unique(list) :\\n\\ts = {}\\n\\toutput = []\\n\\...     48\n",
       "4  def median(x) :\\n\\tif len(x) % 2 == 0 :\\n\\t\\tx...     42"
      ]
     },
     "execution_count": 8,
     "metadata": {},
     "output_type": "execute_result"
    }
   ],
   "source": [
    "valcnt = pd.DataFrame(df[\"clone1\"].value_counts(), index=None)\n",
    "valcnt.reset_index(drop=False, inplace=True)\n",
    "valcnt.head()"
   ]
  },
  {
   "cell_type": "code",
   "execution_count": 9,
   "id": "831d1dd279e492e2",
   "metadata": {
    "ExecuteTime": {
     "end_time": "2024-04-17T19:01:30.270446Z",
     "start_time": "2024-04-17T19:01:30.193398Z"
    },
    "collapsed": false
   },
   "outputs": [
    {
     "data": {
      "text/plain": [
       "(3075, 3040)"
      ]
     },
     "execution_count": 9,
     "metadata": {},
     "output_type": "execute_result"
    }
   ],
   "source": [
    "import pandas as pd\n",
    "\n",
    "def split_dataframe(df):\n",
    "    total_sum = df['count'].sum()\n",
    "    target_sum = total_sum / 2\n",
    "    \n",
    "    part1 = []\n",
    "    part2 = []\n",
    "    \n",
    "    current_sum = 0\n",
    "    add_to_part1 = True\n",
    "    \n",
    "    for index, row in df.iterrows():\n",
    "        if add_to_part1:\n",
    "            part1.append(row)\n",
    "            current_sum += row['count']\n",
    "        else:\n",
    "            part2.append(row)\n",
    "        \n",
    "        add_to_part1 = not add_to_part1\n",
    "    \n",
    "    return pd.DataFrame(part1, columns=df.columns), pd.DataFrame(part2, columns=df.columns)\n",
    "\n",
    "part1, part2 = split_dataframe(valcnt)\n",
    "\n",
    "part1[\"count\"].sum(), part2[\"count\"].sum()"
   ]
  },
  {
   "cell_type": "code",
   "execution_count": 10,
   "id": "f06f15ad4eada16a",
   "metadata": {
    "ExecuteTime": {
     "end_time": "2024-04-17T19:01:30.915179Z",
     "start_time": "2024-04-17T19:01:30.907926Z"
    },
    "collapsed": false
   },
   "outputs": [
    {
     "data": {
      "text/plain": [
       "((3075, 6), (3040, 6))"
      ]
     },
     "execution_count": 10,
     "metadata": {},
     "output_type": "execute_result"
    }
   ],
   "source": [
    "df1 = df[df[\"clone1\"].isin(part1[\"clone1\"])]\n",
    "df2 = df[df[\"clone1\"].isin(part2[\"clone1\"])]\n",
    "df1.shape, df2.shape"
   ]
  },
  {
   "cell_type": "code",
   "execution_count": 18,
   "id": "328c9c34120ef24a",
   "metadata": {
    "ExecuteTime": {
     "end_time": "2024-04-17T19:12:01.942497Z",
     "start_time": "2024-04-17T19:12:01.934271Z"
    },
    "collapsed": false
   },
   "outputs": [
    {
     "data": {
      "text/html": [
       "<div>\n",
       "<style scoped>\n",
       "    .dataframe tbody tr th:only-of-type {\n",
       "        vertical-align: middle;\n",
       "    }\n",
       "\n",
       "    .dataframe tbody tr th {\n",
       "        vertical-align: top;\n",
       "    }\n",
       "\n",
       "    .dataframe thead th {\n",
       "        text-align: right;\n",
       "    }\n",
       "</style>\n",
       "<table border=\"1\" class=\"dataframe\">\n",
       "  <thead>\n",
       "    <tr style=\"text-align: right;\">\n",
       "      <th></th>\n",
       "      <th>prompt</th>\n",
       "      <th>clonetype</th>\n",
       "      <th>id</th>\n",
       "      <th>clone1</th>\n",
       "      <th>clone2</th>\n",
       "      <th>file_path</th>\n",
       "    </tr>\n",
       "  </thead>\n",
       "  <tbody>\n",
       "  </tbody>\n",
       "</table>\n",
       "</div>"
      ],
      "text/plain": [
       "Empty DataFrame\n",
       "Columns: [prompt, clonetype, id, clone1, clone2, file_path]\n",
       "Index: []"
      ]
     },
     "execution_count": 18,
     "metadata": {},
     "output_type": "execute_result"
    }
   ],
   "source": [
    "df1[df1[\"clone1\"].isin(df2[\"clone1\"])]\n",
    "df2[df2[\"clone1\"].isin(df1[\"clone1\"])]"
   ]
  },
  {
   "cell_type": "code",
   "execution_count": 20,
   "id": "1dc0ee27515f73a0",
   "metadata": {
    "ExecuteTime": {
     "end_time": "2024-04-17T19:14:18.419089Z",
     "start_time": "2024-04-17T19:14:18.412898Z"
    },
    "collapsed": false
   },
   "outputs": [
    {
     "name": "stdout",
     "output_type": "stream",
     "text": [
      "All pairs 3040\n",
      "Dissimilar pairs 3021\n"
     ]
    }
   ],
   "source": [
    "pairs = list(zip(df1[\"clone1\"], df2[\"clone2\"]))\n",
    "print(\"All pairs\",len(pairs))\n",
    "# pairs[:2]\n",
    "print(\"Dissimilar pairs\", len(set(pairs)))"
   ]
  },
  {
   "cell_type": "code",
   "execution_count": 22,
   "id": "8dce1a0f80deb1b1",
   "metadata": {
    "ExecuteTime": {
     "end_time": "2024-04-17T19:16:32.467271Z",
     "start_time": "2024-04-17T19:16:32.462716Z"
    },
    "collapsed": false
   },
   "outputs": [
    {
     "name": "stdout",
     "output_type": "stream",
     "text": [
      "All pairs 3040\n",
      "Dissimilar pairs 3027\n"
     ]
    }
   ],
   "source": [
    "pairs2 = list(zip(df1[\"clone2\"], df2[\"clone1\"]))\n",
    "print(\"All pairs\",len(pairs2))\n",
    "# pairs[:2]\n",
    "print(\"Dissimilar pairs\", len(set(pairs2)))"
   ]
  },
  {
   "cell_type": "code",
   "execution_count": 26,
   "id": "2a0a863e9092871d",
   "metadata": {
    "ExecuteTime": {
     "end_time": "2024-04-17T19:18:38.231891Z",
     "start_time": "2024-04-17T19:18:38.228204Z"
    },
    "collapsed": false
   },
   "outputs": [],
   "source": [
    "# TODO: CHECK WHY DUBLICATES !!! (maybe check old dataframe)\n",
    "disimmilar_pairs_df = pd.DataFrame(pairs+pairs2, columns=['clone1', 'clone2'])"
   ]
  },
  {
   "cell_type": "code",
   "execution_count": 27,
   "id": "639351561b741d92",
   "metadata": {
    "ExecuteTime": {
     "end_time": "2024-04-17T19:18:38.699171Z",
     "start_time": "2024-04-17T19:18:38.685589Z"
    },
    "collapsed": false
   },
   "outputs": [
    {
     "data": {
      "text/html": [
       "<div>\n",
       "<style scoped>\n",
       "    .dataframe tbody tr th:only-of-type {\n",
       "        vertical-align: middle;\n",
       "    }\n",
       "\n",
       "    .dataframe tbody tr th {\n",
       "        vertical-align: top;\n",
       "    }\n",
       "\n",
       "    .dataframe thead th {\n",
       "        text-align: right;\n",
       "    }\n",
       "</style>\n",
       "<table border=\"1\" class=\"dataframe\">\n",
       "  <thead>\n",
       "    <tr style=\"text-align: right;\">\n",
       "      <th></th>\n",
       "      <th>clone1</th>\n",
       "      <th>clone2</th>\n",
       "    </tr>\n",
       "  </thead>\n",
       "  <tbody>\n",
       "    <tr>\n",
       "      <th>55</th>\n",
       "      <td>def split_at_first_false(pred, seq) :\\n\\tindex...</td>\n",
       "      <td>def  almostIncreasingSequence(sequence): \\n\\tf...</td>\n",
       "    </tr>\n",
       "    <tr>\n",
       "      <th>239</th>\n",
       "      <td>def cumulative_sum(lst):\\n    new_lst = []\\n  ...</td>\n",
       "      <td>def  curry(func):\\n  def call_with(*args):\\n  ...</td>\n",
       "    </tr>\n",
       "    <tr>\n",
       "      <th>242</th>\n",
       "      <td>def convert(items, ID) :\\n\\tfor key, value in ...</td>\n",
       "      <td>def  curry(func):\\n  def call_with(*args):\\n  ...</td>\n",
       "    </tr>\n",
       "    <tr>\n",
       "      <th>244</th>\n",
       "      <td>def convert(items, ID) :\\n\\tfor key, value in ...</td>\n",
       "      <td>def  curry(func):\\n  def call_with(*args):\\n  ...</td>\n",
       "    </tr>\n",
       "    <tr>\n",
       "      <th>474</th>\n",
       "      <td>def char_first_index(s, c) :\\n\\tif len_rec(s) ...</td>\n",
       "      <td>def  __call__(self, new) :\\n\\t   if new: \\n\\t\\...</td>\n",
       "    </tr>\n",
       "    <tr>\n",
       "      <th>1366</th>\n",
       "      <td>def traceit(frame, event, arg) :\\n\\tif event =...</td>\n",
       "      <td>def  find_nth(string, substring, n):\\n    coun...</td>\n",
       "    </tr>\n",
       "    <tr>\n",
       "      <th>1379</th>\n",
       "      <td>def checkio(data) :\\n\\tfor index in range(len(...</td>\n",
       "      <td>def  touch_value(self, stack, frame) :\\n\\tasse...</td>\n",
       "    </tr>\n",
       "    <tr>\n",
       "      <th>1443</th>\n",
       "      <td>def recurse(left, right, threshold, features, ...</td>\n",
       "      <td>def  get_cost(x):\\n    duration = x['t1']\\n   ...</td>\n",
       "    </tr>\n",
       "    <tr>\n",
       "      <th>1516</th>\n",
       "      <td>def all_pairs(lst) :\\n\\tif not lst :\\n\\t\\tyiel...</td>\n",
       "      <td>def  binary_insert(root, node):\\n    if not ro...</td>\n",
       "    </tr>\n",
       "    <tr>\n",
       "      <th>2041</th>\n",
       "      <td>def merge(left, right) :\\n\\tresult = []\\n\\ti =...</td>\n",
       "      <td>def  __setattr__(self, key, value):\\n    if ke...</td>\n",
       "    </tr>\n",
       "    <tr>\n",
       "      <th>2442</th>\n",
       "      <td>def sublist(a, b) :\\n\\tlast = 0\\n\\tfor el_a in...</td>\n",
       "      <td>def  search(request):\\n    if request.method =...</td>\n",
       "    </tr>\n",
       "    <tr>\n",
       "      <th>2493</th>\n",
       "      <td>def test_run(files_dir) :\\n\\tqueue = mp.Queue(...</td>\n",
       "      <td>def  decrypt(secret_key, encoded): \\n\\tpk = se...</td>\n",
       "    </tr>\n",
       "    <tr>\n",
       "      <th>2878</th>\n",
       "      <td>def median(data) :\\n\\tnew_list = sorted(data)\\...</td>\n",
       "      <td>def  unique(list):\\n    s = {}\\n    output = [...</td>\n",
       "    </tr>\n",
       "    <tr>\n",
       "      <th>2879</th>\n",
       "      <td>def median(data) :\\n\\tnew_list = sorted(data)\\...</td>\n",
       "      <td>def  set_item_count(dictionary, item):\\n    if...</td>\n",
       "    </tr>\n",
       "    <tr>\n",
       "      <th>2880</th>\n",
       "      <td>def median(data) :\\n\\tnew_list = sorted(data)\\...</td>\n",
       "      <td>def  unique(list):\\n    s = {}\\n    output = [...</td>\n",
       "    </tr>\n",
       "    <tr>\n",
       "      <th>2883</th>\n",
       "      <td>def median(data) :\\n\\tnew_list = sorted(data)\\...</td>\n",
       "      <td>def  set_item_count(dictionary, item):\\n    if...</td>\n",
       "    </tr>\n",
       "    <tr>\n",
       "      <th>2884</th>\n",
       "      <td>def median(data) :\\n\\tnew_list = sorted(data)\\...</td>\n",
       "      <td>def  unique(list):\\n    s = {}\\n    output = [...</td>\n",
       "    </tr>\n",
       "    <tr>\n",
       "      <th>2886</th>\n",
       "      <td>def median(data) :\\n\\tnew_list = sorted(data)\\...</td>\n",
       "      <td>def  unique(list):\\n    s = {}\\n    output = [...</td>\n",
       "    </tr>\n",
       "    <tr>\n",
       "      <th>3031</th>\n",
       "      <td>def translation_comparison() :\\n\\timport re\\n\\...</td>\n",
       "      <td>def  pop(self, key = None, default = object())...</td>\n",
       "    </tr>\n",
       "    <tr>\n",
       "      <th>3408</th>\n",
       "      <td>def  merge_sort(arr): \\n    def merge(left, ri...</td>\n",
       "      <td>def execute(cmdArray, workingDir) :\\n\\tstdout ...</td>\n",
       "    </tr>\n",
       "    <tr>\n",
       "      <th>3512</th>\n",
       "      <td>def  char_first_index(s, c):\\n\\tcurr_index = 0...</td>\n",
       "      <td>def __call__(self, new) :\\n\\tparams = self.imm...</td>\n",
       "    </tr>\n",
       "    <tr>\n",
       "      <th>4611</th>\n",
       "      <td>def  binary_search(arr, x, start=0, end=None):...</td>\n",
       "      <td>def recurse(node, depth) :\\n\\tindent = \"  \" * ...</td>\n",
       "    </tr>\n",
       "    <tr>\n",
       "      <th>4644</th>\n",
       "      <td>def  median(midlist):\\n    midlist.sort()\\n   ...</td>\n",
       "      <td>def scan(words) :\\n\\tresult = []\\n\\tfor word i...</td>\n",
       "    </tr>\n",
       "    <tr>\n",
       "      <th>4673</th>\n",
       "      <td>def  ping(self, host):\\n   flag = \"-n 1\" if sy...</td>\n",
       "      <td>def extendedString(string1, string2) :\\n\\tif l...</td>\n",
       "    </tr>\n",
       "    <tr>\n",
       "      <th>4767</th>\n",
       "      <td>def  almostIncreasingSequence(sequence):\\n    ...</td>\n",
       "      <td>def ping(host, network_timeout = 3) :\\n\\targs ...</td>\n",
       "    </tr>\n",
       "    <tr>\n",
       "      <th>4897</th>\n",
       "      <td>def  __init__(self, some_var):\\n    QtCore.QOb...</td>\n",
       "      <td>def my_function(a) :\\n\\ta = iter(a)\\n\\twhile T...</td>\n",
       "    </tr>\n",
       "    <tr>\n",
       "      <th>4966</th>\n",
       "      <td>def  stemming(verb):\\n\\tsuffixes = ['ing', 'ed...</td>\n",
       "      <td>def __init__(self, * args, ** kwargs) :\\n\\tsup...</td>\n",
       "    </tr>\n",
       "    <tr>\n",
       "      <th>5066</th>\n",
       "      <td>def  arePermsEqualParity(perm0, perm1):\\n\\ttra...</td>\n",
       "      <td>def reverseParentheses(s) :\\n\\tif '(' in s :\\n...</td>\n",
       "    </tr>\n",
       "    <tr>\n",
       "      <th>5195</th>\n",
       "      <td>def  index(filename, lst):\\n    dic = dict((wo...</td>\n",
       "      <td>def merge(left_side, right_side) :\\n\\tresult =...</td>\n",
       "    </tr>\n",
       "    <tr>\n",
       "      <th>5533</th>\n",
       "      <td>def  test_run(files_dir) :\\n\\tpool = mp.Pool(m...</td>\n",
       "      <td>def decrypt(key, encoded) :\\n\\tpadded_key = ke...</td>\n",
       "    </tr>\n",
       "    <tr>\n",
       "      <th>5902</th>\n",
       "      <td>def  median(midlist):\\n\\tmidlist.sort()\\n\\tlen...</td>\n",
       "      <td>def unique(l) :\\n\\ts = set(); n = 0\\n\\tfor x i...</td>\n",
       "    </tr>\n",
       "    <tr>\n",
       "      <th>5937</th>\n",
       "      <td>def  median(data):\\n  length = len(data)\\n  so...</td>\n",
       "      <td>def fib(n) :\\n\\tif n == 0 :\\n\\t\\treturn 0\\n\\te...</td>\n",
       "    </tr>\n",
       "  </tbody>\n",
       "</table>\n",
       "</div>"
      ],
      "text/plain": [
       "                                                 clone1  \\\n",
       "55    def split_at_first_false(pred, seq) :\\n\\tindex...   \n",
       "239   def cumulative_sum(lst):\\n    new_lst = []\\n  ...   \n",
       "242   def convert(items, ID) :\\n\\tfor key, value in ...   \n",
       "244   def convert(items, ID) :\\n\\tfor key, value in ...   \n",
       "474   def char_first_index(s, c) :\\n\\tif len_rec(s) ...   \n",
       "1366  def traceit(frame, event, arg) :\\n\\tif event =...   \n",
       "1379  def checkio(data) :\\n\\tfor index in range(len(...   \n",
       "1443  def recurse(left, right, threshold, features, ...   \n",
       "1516  def all_pairs(lst) :\\n\\tif not lst :\\n\\t\\tyiel...   \n",
       "2041  def merge(left, right) :\\n\\tresult = []\\n\\ti =...   \n",
       "2442  def sublist(a, b) :\\n\\tlast = 0\\n\\tfor el_a in...   \n",
       "2493  def test_run(files_dir) :\\n\\tqueue = mp.Queue(...   \n",
       "2878  def median(data) :\\n\\tnew_list = sorted(data)\\...   \n",
       "2879  def median(data) :\\n\\tnew_list = sorted(data)\\...   \n",
       "2880  def median(data) :\\n\\tnew_list = sorted(data)\\...   \n",
       "2883  def median(data) :\\n\\tnew_list = sorted(data)\\...   \n",
       "2884  def median(data) :\\n\\tnew_list = sorted(data)\\...   \n",
       "2886  def median(data) :\\n\\tnew_list = sorted(data)\\...   \n",
       "3031  def translation_comparison() :\\n\\timport re\\n\\...   \n",
       "3408  def  merge_sort(arr): \\n    def merge(left, ri...   \n",
       "3512  def  char_first_index(s, c):\\n\\tcurr_index = 0...   \n",
       "4611  def  binary_search(arr, x, start=0, end=None):...   \n",
       "4644  def  median(midlist):\\n    midlist.sort()\\n   ...   \n",
       "4673  def  ping(self, host):\\n   flag = \"-n 1\" if sy...   \n",
       "4767  def  almostIncreasingSequence(sequence):\\n    ...   \n",
       "4897  def  __init__(self, some_var):\\n    QtCore.QOb...   \n",
       "4966  def  stemming(verb):\\n\\tsuffixes = ['ing', 'ed...   \n",
       "5066  def  arePermsEqualParity(perm0, perm1):\\n\\ttra...   \n",
       "5195  def  index(filename, lst):\\n    dic = dict((wo...   \n",
       "5533  def  test_run(files_dir) :\\n\\tpool = mp.Pool(m...   \n",
       "5902  def  median(midlist):\\n\\tmidlist.sort()\\n\\tlen...   \n",
       "5937  def  median(data):\\n  length = len(data)\\n  so...   \n",
       "\n",
       "                                                 clone2  \n",
       "55    def  almostIncreasingSequence(sequence): \\n\\tf...  \n",
       "239   def  curry(func):\\n  def call_with(*args):\\n  ...  \n",
       "242   def  curry(func):\\n  def call_with(*args):\\n  ...  \n",
       "244   def  curry(func):\\n  def call_with(*args):\\n  ...  \n",
       "474   def  __call__(self, new) :\\n\\t   if new: \\n\\t\\...  \n",
       "1366  def  find_nth(string, substring, n):\\n    coun...  \n",
       "1379  def  touch_value(self, stack, frame) :\\n\\tasse...  \n",
       "1443  def  get_cost(x):\\n    duration = x['t1']\\n   ...  \n",
       "1516  def  binary_insert(root, node):\\n    if not ro...  \n",
       "2041  def  __setattr__(self, key, value):\\n    if ke...  \n",
       "2442  def  search(request):\\n    if request.method =...  \n",
       "2493  def  decrypt(secret_key, encoded): \\n\\tpk = se...  \n",
       "2878  def  unique(list):\\n    s = {}\\n    output = [...  \n",
       "2879  def  set_item_count(dictionary, item):\\n    if...  \n",
       "2880  def  unique(list):\\n    s = {}\\n    output = [...  \n",
       "2883  def  set_item_count(dictionary, item):\\n    if...  \n",
       "2884  def  unique(list):\\n    s = {}\\n    output = [...  \n",
       "2886  def  unique(list):\\n    s = {}\\n    output = [...  \n",
       "3031  def  pop(self, key = None, default = object())...  \n",
       "3408  def execute(cmdArray, workingDir) :\\n\\tstdout ...  \n",
       "3512  def __call__(self, new) :\\n\\tparams = self.imm...  \n",
       "4611  def recurse(node, depth) :\\n\\tindent = \"  \" * ...  \n",
       "4644  def scan(words) :\\n\\tresult = []\\n\\tfor word i...  \n",
       "4673  def extendedString(string1, string2) :\\n\\tif l...  \n",
       "4767  def ping(host, network_timeout = 3) :\\n\\targs ...  \n",
       "4897  def my_function(a) :\\n\\ta = iter(a)\\n\\twhile T...  \n",
       "4966  def __init__(self, * args, ** kwargs) :\\n\\tsup...  \n",
       "5066  def reverseParentheses(s) :\\n\\tif '(' in s :\\n...  \n",
       "5195  def merge(left_side, right_side) :\\n\\tresult =...  \n",
       "5533  def decrypt(key, encoded) :\\n\\tpadded_key = ke...  \n",
       "5902  def unique(l) :\\n\\ts = set(); n = 0\\n\\tfor x i...  \n",
       "5937  def fib(n) :\\n\\tif n == 0 :\\n\\t\\treturn 0\\n\\te...  "
      ]
     },
     "execution_count": 27,
     "metadata": {},
     "output_type": "execute_result"
    }
   ],
   "source": [
    "disimmilar_pairs_df[disimmilar_pairs_df.duplicated()]"
   ]
  },
  {
   "cell_type": "markdown",
   "id": "5d59b1521cfe21de",
   "metadata": {
    "collapsed": false
   },
   "source": [
    "Merging"
   ]
  },
  {
   "cell_type": "code",
   "execution_count": 30,
   "id": "fa6213b105ec3dbd",
   "metadata": {
    "ExecuteTime": {
     "end_time": "2024-04-17T19:19:29.840870Z",
     "start_time": "2024-04-17T19:19:29.837996Z"
    },
    "collapsed": false
   },
   "outputs": [
    {
     "data": {
      "text/plain": [
       "(6080, 2)"
      ]
     },
     "execution_count": 30,
     "metadata": {},
     "output_type": "execute_result"
    }
   ],
   "source": [
    "disimmilar_pairs_df.shape"
   ]
  },
  {
   "cell_type": "code",
   "execution_count": 29,
   "id": "bc3da8251fd67239",
   "metadata": {
    "ExecuteTime": {
     "end_time": "2024-04-17T19:19:23.921201Z",
     "start_time": "2024-04-17T19:19:23.918291Z"
    },
    "collapsed": false
   },
   "outputs": [
    {
     "data": {
      "text/plain": [
       "(6115, 6)"
      ]
     },
     "execution_count": 29,
     "metadata": {},
     "output_type": "execute_result"
    }
   ],
   "source": [
    "df.shape"
   ]
  },
  {
   "cell_type": "code",
   "execution_count": 37,
   "id": "be09deb8c000d4af",
   "metadata": {
    "ExecuteTime": {
     "end_time": "2024-04-17T19:24:30.954888Z",
     "start_time": "2024-04-17T19:24:30.948357Z"
    },
    "collapsed": false
   },
   "outputs": [],
   "source": [
    "df[\"semantic_clone\"]=1\n",
    "disimmilar_pairs_df[\"semantic_clone\"]=0\n",
    "\n",
    "df_merge = pd.concat([df, disimmilar_pairs_df], ignore_index=True)"
   ]
  },
  {
   "cell_type": "code",
   "execution_count": 39,
   "id": "e0ca150721c46769",
   "metadata": {
    "ExecuteTime": {
     "end_time": "2024-04-17T19:25:32.801046Z",
     "start_time": "2024-04-17T19:25:32.720931Z"
    },
    "collapsed": false
   },
   "outputs": [],
   "source": [
    "df_merge = df_merge[[\"clone1\", \"clone2\", \"semantic_clone\"]]"
   ]
  },
  {
   "cell_type": "code",
   "execution_count": 40,
   "id": "159206c5dfd42c98",
   "metadata": {
    "ExecuteTime": {
     "end_time": "2024-04-17T19:25:34.644806Z",
     "start_time": "2024-04-17T19:25:34.639125Z"
    },
    "collapsed": false
   },
   "outputs": [
    {
     "data": {
      "text/html": [
       "<div>\n",
       "<style scoped>\n",
       "    .dataframe tbody tr th:only-of-type {\n",
       "        vertical-align: middle;\n",
       "    }\n",
       "\n",
       "    .dataframe tbody tr th {\n",
       "        vertical-align: top;\n",
       "    }\n",
       "\n",
       "    .dataframe thead th {\n",
       "        text-align: right;\n",
       "    }\n",
       "</style>\n",
       "<table border=\"1\" class=\"dataframe\">\n",
       "  <thead>\n",
       "    <tr style=\"text-align: right;\">\n",
       "      <th></th>\n",
       "      <th>clone1</th>\n",
       "      <th>clone2</th>\n",
       "      <th>semantic_clone</th>\n",
       "    </tr>\n",
       "  </thead>\n",
       "  <tbody>\n",
       "    <tr>\n",
       "      <th>0</th>\n",
       "      <td>def second_largest(numbers) :\\n\\tcount = 0\\n\\t...</td>\n",
       "      <td>def  second_largest(numbers) :\\n\\tsecond_large...</td>\n",
       "      <td>1</td>\n",
       "    </tr>\n",
       "    <tr>\n",
       "      <th>1</th>\n",
       "      <td>def second_largest(numbers) :\\n\\tcount = 0\\n\\t...</td>\n",
       "      <td>def  second_largest(numbers):\\n\\n  if len(numb...</td>\n",
       "      <td>1</td>\n",
       "    </tr>\n",
       "    <tr>\n",
       "      <th>2</th>\n",
       "      <td>def num_input(prompt, error) :\\n\\twhile True :...</td>\n",
       "      <td>def  num_input(prompt, error) :\\n        while...</td>\n",
       "      <td>1</td>\n",
       "    </tr>\n",
       "    <tr>\n",
       "      <th>3</th>\n",
       "      <td>def recurse(node, depth) :\\n\\tindent = \"  \" * ...</td>\n",
       "      <td>def  recurse(node, depth) :\\n\\tindent = \"  \" *...</td>\n",
       "      <td>1</td>\n",
       "    </tr>\n",
       "    <tr>\n",
       "      <th>4</th>\n",
       "      <td>def getName(self, name) :\\n\\tlisty = []\\n\\tspl...</td>\n",
       "      <td>def  getName2(self, fullname) :\\n\\tnames = []\\...</td>\n",
       "      <td>1</td>\n",
       "    </tr>\n",
       "    <tr>\n",
       "      <th>...</th>\n",
       "      <td>...</td>\n",
       "      <td>...</td>\n",
       "      <td>...</td>\n",
       "    </tr>\n",
       "    <tr>\n",
       "      <th>12190</th>\n",
       "      <td>def  ignore_until(the_list, match):\\n    sub_l...</td>\n",
       "      <td>def run(self) :\\n\\tt = datetime(* datetime.now...</td>\n",
       "      <td>0</td>\n",
       "    </tr>\n",
       "    <tr>\n",
       "      <th>12191</th>\n",
       "      <td>def  ignore_until(the_list, match):\\n    sub_l...</td>\n",
       "      <td>def __init__(self, year = None, month = None,d...</td>\n",
       "      <td>0</td>\n",
       "    </tr>\n",
       "    <tr>\n",
       "      <th>12192</th>\n",
       "      <td>def  ignore_until(the_list, match):\\n    end_i...</td>\n",
       "      <td>def __init__(self, year = None, month = None,d...</td>\n",
       "      <td>0</td>\n",
       "    </tr>\n",
       "    <tr>\n",
       "      <th>12193</th>\n",
       "      <td>def  ignore_until(the_list, match): \\n    idx ...</td>\n",
       "      <td>def __init__(self, year = None, month = None,d...</td>\n",
       "      <td>0</td>\n",
       "    </tr>\n",
       "    <tr>\n",
       "      <th>12194</th>\n",
       "      <td>def  ignore_until(the_list, match):\\n    for i...</td>\n",
       "      <td>def __init__(self, year = None, month = None,d...</td>\n",
       "      <td>0</td>\n",
       "    </tr>\n",
       "  </tbody>\n",
       "</table>\n",
       "<p>12195 rows × 3 columns</p>\n",
       "</div>"
      ],
      "text/plain": [
       "                                                  clone1  \\\n",
       "0      def second_largest(numbers) :\\n\\tcount = 0\\n\\t...   \n",
       "1      def second_largest(numbers) :\\n\\tcount = 0\\n\\t...   \n",
       "2      def num_input(prompt, error) :\\n\\twhile True :...   \n",
       "3      def recurse(node, depth) :\\n\\tindent = \"  \" * ...   \n",
       "4      def getName(self, name) :\\n\\tlisty = []\\n\\tspl...   \n",
       "...                                                  ...   \n",
       "12190  def  ignore_until(the_list, match):\\n    sub_l...   \n",
       "12191  def  ignore_until(the_list, match):\\n    sub_l...   \n",
       "12192  def  ignore_until(the_list, match):\\n    end_i...   \n",
       "12193  def  ignore_until(the_list, match): \\n    idx ...   \n",
       "12194  def  ignore_until(the_list, match):\\n    for i...   \n",
       "\n",
       "                                                  clone2  semantic_clone  \n",
       "0      def  second_largest(numbers) :\\n\\tsecond_large...               1  \n",
       "1      def  second_largest(numbers):\\n\\n  if len(numb...               1  \n",
       "2      def  num_input(prompt, error) :\\n        while...               1  \n",
       "3      def  recurse(node, depth) :\\n\\tindent = \"  \" *...               1  \n",
       "4      def  getName2(self, fullname) :\\n\\tnames = []\\...               1  \n",
       "...                                                  ...             ...  \n",
       "12190  def run(self) :\\n\\tt = datetime(* datetime.now...               0  \n",
       "12191  def __init__(self, year = None, month = None,d...               0  \n",
       "12192  def __init__(self, year = None, month = None,d...               0  \n",
       "12193  def __init__(self, year = None, month = None,d...               0  \n",
       "12194  def __init__(self, year = None, month = None,d...               0  \n",
       "\n",
       "[12195 rows x 3 columns]"
      ]
     },
     "execution_count": 40,
     "metadata": {},
     "output_type": "execute_result"
    }
   ],
   "source": [
    "df_merge\n",
    "\n",
    "# df_merge.to_csv(\"data/gpt_benchmark_dataset.csv\", index=False)"
   ]
  },
  {
   "cell_type": "markdown",
   "id": "c2fe2160ec0e347d",
   "metadata": {
    "collapsed": false
   },
   "source": [
    "#### Removing Method Names"
   ]
  },
  {
   "cell_type": "code",
   "execution_count": 46,
   "id": "409cae4cd4948e60",
   "metadata": {
    "ExecuteTime": {
     "end_time": "2024-04-17T19:33:16.013352Z",
     "start_time": "2024-04-17T19:33:15.953386Z"
    },
    "collapsed": false
   },
   "outputs": [
    {
     "data": {
      "text/plain": [
       "(12195, 3)"
      ]
     },
     "execution_count": 46,
     "metadata": {},
     "output_type": "execute_result"
    }
   ],
   "source": [
    "method_name_pattern = re.compile(r\"def\\s+(.+?)\\(\")\n",
    "df_rename = df_merge.copy()\n",
    "\n",
    "df_rename[\"clone1\"] = df_rename[\"clone1\"].map(lambda x: method_name_pattern.sub(\"def method_name(\", x.strip().strip(\"\\n\"), count=1))\n",
    "df_rename[\"clone2\"] = df_rename[\"clone2\"].map(lambda x: method_name_pattern.sub(\"def method_name(\", x.strip().strip(\"\\n\"), count=1))\n",
    "df_rename.shape"
   ]
  },
  {
   "cell_type": "code",
   "execution_count": 49,
   "id": "b9b1f3310bc04cc",
   "metadata": {
    "ExecuteTime": {
     "end_time": "2024-04-17T19:33:31.870334Z",
     "start_time": "2024-04-17T19:33:31.848018Z"
    },
    "collapsed": false
   },
   "outputs": [
    {
     "data": {
      "text/plain": [
       "(12195, 12195)"
      ]
     },
     "execution_count": 49,
     "metadata": {},
     "output_type": "execute_result"
    }
   ],
   "source": [
    "df_rename[\"clone1\"].str.count(\"method_name\").sum(), df_rename[\"clone2\"].str.count(\"method_name\").sum()"
   ]
  },
  {
   "cell_type": "code",
   "execution_count": 50,
   "id": "ae4f966114b00473",
   "metadata": {
    "ExecuteTime": {
     "end_time": "2024-04-17T19:33:50.895362Z",
     "start_time": "2024-04-17T19:33:50.819406Z"
    },
    "collapsed": false
   },
   "outputs": [],
   "source": [
    "df_rename.to_csv(\"data/gpt_benchmark_dataset.csv\", index=False)"
   ]
  }
 ],
 "metadata": {
  "kernelspec": {
   "display_name": "Python 3",
   "language": "python",
   "name": "python3"
  },
  "language_info": {
   "codemirror_mode": {
    "name": "ipython",
    "version": 2
   },
   "file_extension": ".py",
   "mimetype": "text/x-python",
   "name": "python",
   "nbconvert_exporter": "python",
   "pygments_lexer": "ipython2",
   "version": "2.7.6"
  }
 },
 "nbformat": 4,
 "nbformat_minor": 5
}
